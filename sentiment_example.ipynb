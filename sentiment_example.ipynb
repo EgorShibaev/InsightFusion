{
 "cells": [
  {
   "cell_type": "code",
   "execution_count": 1,
   "metadata": {},
   "outputs": [],
   "source": [
    "%load_ext autoreload\n",
    "%autoreload 2"
   ]
  },
  {
   "cell_type": "code",
   "execution_count": 2,
   "metadata": {},
   "outputs": [],
   "source": [
    "from src.clasterization import clasterize\n",
    "from src.fetch_comments import fetch_comments\n",
    "from src.embed import embed\n",
    "from src.embed import model_names as embed_model_names\n",
    "from src.sampling import sample_from_claster as sample"
   ]
  },
  {
   "cell_type": "code",
   "execution_count": 3,
   "metadata": {},
   "outputs": [],
   "source": [
    "comments = fetch_comments(id='uYPbbksJxIg', max_result=3000, max_len=1000)"
   ]
  },
  {
   "cell_type": "code",
   "execution_count": 4,
   "metadata": {},
   "outputs": [
    {
     "data": {
      "text/plain": [
       "['SentenceTransformer/bert-base-nli-mean-tokens',\n",
       " 'cohere-english',\n",
       " 'cohere-multilingual',\n",
       " 'voyageai']"
      ]
     },
     "execution_count": 4,
     "metadata": {},
     "output_type": "execute_result"
    }
   ],
   "source": [
    "embed_model_names"
   ]
  },
  {
   "cell_type": "code",
   "execution_count": 5,
   "metadata": {},
   "outputs": [
    {
     "name": "stdout",
     "output_type": "stream",
     "text": [
      "cohere-multilingual\n"
     ]
    },
    {
     "data": {
      "text/plain": [
       "(3100, 1024)"
      ]
     },
     "execution_count": 5,
     "metadata": {},
     "output_type": "execute_result"
    }
   ],
   "source": [
    "ind_model = 2\n",
    "\n",
    "embeddings = embed(model_name=embed_model_names[ind_model], sentences=comments)\n",
    "\n",
    "print(embed_model_names[ind_model])\n",
    "\n",
    "embeddings.shape"
   ]
  },
  {
   "cell_type": "code",
   "execution_count": 6,
   "metadata": {},
   "outputs": [
    {
     "data": {
      "image/png": "[encoded data removed]",
      "text/plain": [
       "<Figure size 640x480 with 1 Axes>"
      ]
     },
     "metadata": {},
     "output_type": "display_data"
    }
   ],
   "source": [
    "interias = []\n",
    "\n",
    "for n_clusters in range(1, 10):\n",
    "    _, kmeans = clasterize('kmeans', embeddings, n_clusters=n_clusters)\n",
    "    interias.append(kmeans.inertia_)\n",
    "\n",
    "# Plot the elbow\n",
    "\n",
    "import matplotlib.pyplot as plt\n",
    "\n",
    "plt.plot(range(1, 10), interias)\n",
    "plt.title('Elbow method')\n",
    "plt.xlabel('Number of clusters')\n",
    "plt.ylabel('Inertia')\n",
    "plt.show()"
   ]
  },
  {
   "cell_type": "code",
   "execution_count": 7,
   "metadata": {},
   "outputs": [],
   "source": [
    "choosed_n_clusters = 5"
   ]
  },
  {
   "cell_type": "code",
   "execution_count": 8,
   "metadata": {},
   "outputs": [
    {
     "name": "stdout",
     "output_type": "stream",
     "text": [
      "Claster 0 has 582 comments\n",
      "Claster 3 has 870 comments\n",
      "Claster 4 has 640 comments\n",
      "Claster 1 has 368 comments\n",
      "Claster 2 has 640 comments\n"
     ]
    },
    {
     "data": {
      "text/plain": [
       "1522.6353860508973"
      ]
     },
     "execution_count": 8,
     "metadata": {},
     "output_type": "execute_result"
    }
   ],
   "source": [
    "from collections import Counter\n",
    "\n",
    "clasters, kmeans = clasterize(\n",
    "    method_name='kmeans', \n",
    "    embeddings=embeddings,\n",
    "    n_clusters=choosed_n_clusters)\n",
    "\n",
    "counts = Counter(clasters)\n",
    "\n",
    "# print \n",
    "\n",
    "claster_inds = {claster for claster in clasters}\n",
    "\n",
    "for claster, count in counts.items():\n",
    "    print(f'Claster {claster} has {count} comments')\n",
    "\n",
    "\n",
    "kmeans.inertia_"
   ]
  },
  {
   "cell_type": "code",
   "execution_count": 9,
   "metadata": {},
   "outputs": [
    {
     "name": "stdout",
     "output_type": "stream",
     "text": [
      "Claster 0\n",
      "Boring ass movie……\n",
      "----------\n",
      "Most boring movie of all time. Emphasis on the word BORING!\n",
      "----------\n",
      "This movie look boring as hell I can't lie\n",
      "----------\n",
      "Bycottt this movieee\n",
      "----------\n",
      "Bycottt this movieee\n",
      "----------\n",
      "====================================================================================================\n",
      "Claster 1\n",
      "Anime exists because of Oppenheimer\n",
      "----------\n",
      "Technically, Oppenheimer is not the inventor of the atomic bomb. He was only the project leader of the weapon that killed many people. The film maker should do a tribute on Nikola Tesla instead. He was the guy that invented many things that benefited the world today.\n",
      "----------\n",
      "Christopher Nolan’s “Oppenheimer” is an absolute beast of a film, It is so well made I can not recommend it enough. For anyone who expected it to be a film on the trinity bomb only it would be a bad film, but it was a movie on the life of J. Robert Oppenheimer, which I think Nolan grasped pretty well with the little cuts of the ups and downs of his life, It could be considered boring if your attention span is 10 seconds, but for anyone who has even a slight interest in the conversations, the movie is phenomenal, even the part after the bomb where it was just dialogues upon dialogues of security clearance, the movie held its ground well, like i said the movie was about the life of J. Robert Oppenheimer, and going through that final hour of the film. We were made to feel exactly like he felt, anxious, frustrated and saddened on each betrayal by characters we had bonded with over time and likewise each triumph. \n",
      "It is one of the best movies I’ve seen this year to understand it more clearl\n",
      "----------\n",
      "Oh my God why is this a movie!! Why does everybody think Oppenheimer is the one guy who created the atomic bomb and he's just destroy your of worlds BS line that he came up with. It's the same as always if he would have done it somebody else would have it's not that special of a thing to come up with something that many people have been working on already. Jesus enough with this guy already putting him up on a pedestal like he did something great. They're acting like he was the only instead of just being the first. There's a big difference.\n",
      "----------\n",
      "Oppenheimer but it's directed by Francis Ford Coppola : https://youtu.be/CYmFtkYHZhw\n",
      "----------\n",
      "====================================================================================================\n",
      "Claster 2\n",
      "Bro when the military pays you to create a bomb so they can win a war, and then use the bomb that you created. :O\n",
      "----------\n",
      "the US. the only country on planet earth that has actually used atomic bombs. Owns atomic bombs.\n",
      "yet preaches about world peace, being the saviour, a \"world policeman\", and controlling other countries ownage of nuclear power. Pfft\n",
      "----------\n",
      "The Americans always tell the same story: American weapons are good, Nazi-weapons are bad; and they want the world to believe this bullshit.\n",
      "----------\n",
      "We will make the world peaceful... STOP THE CAP the world now has nukes the world will end any second any time if someone presses the button!\n",
      "----------\n",
      "Bullshit?! Why is there a film that developed the builder of the atomic bomb, so please, there is a war in other countries, all those who persist have no idea what they are doing with it, how Can the movie be hyped like that...😡😡\n",
      "----------\n",
      "====================================================================================================\n",
      "Claster 3\n",
      "Amazing movie 🎬\n",
      "----------\n",
      "Awesome film\n",
      "----------\n",
      "One of the best films I have seen in a long long while! Bravo!\n",
      "----------\n",
      "Excellent movie, seen it twice and probably will again.. Cillian Murphy was brilliant as was the whole cast and direction.\n",
      "----------\n",
      "It was a perfect movie ✌️\n",
      "----------\n",
      "====================================================================================================\n",
      "Claster 4\n",
      "❤\n",
      "----------\n",
      "😡👎\n",
      "----------\n",
      "Nice one\n",
      "----------\n",
      ".\n",
      "----------\n",
      "https://youtu.be/-YvJJ27nD1w\n",
      "----------\n",
      "====================================================================================================\n"
     ]
    }
   ],
   "source": [
    "# sample comments from claster\n",
    "\n",
    "for ind in claster_inds:\n",
    "    print(f'Claster {ind}')\n",
    "    inds = clasters == ind\n",
    "    comments_claster = [comment for comment, ind in zip(comments, inds) if ind]\n",
    "    embeddings_claster = embeddings[inds]\n",
    "\n",
    "    samples = sample(embeddings_claster, comments_claster, n_samples=5)\n",
    "\n",
    "    for comment in samples:\n",
    "        print(comment)\n",
    "        print('-' * 10)\n",
    "        pass\n",
    "\n",
    "    print(\"=\" * 100)"
   ]
  },
  {
   "cell_type": "code",
   "execution_count": 22,
   "metadata": {},
   "outputs": [
    {
     "name": "stdout",
     "output_type": "stream",
     "text": [
      "Claster 0\n",
      "All of the comments express a negative opinion, specifically regarding the movie being boring and a waste of time.\n",
      "====================================================================================================\n",
      "Claster 1\n",
      "The comments praise Christopher Nolan's \"Oppenheimer,\" highlighting its portrayal of J. Robert Oppenheimer's life, the film's cinematic quality, and the profound emotional impact it had on viewers, despite acknowledging it might not appeal to everyone's taste.\n",
      "====================================================================================================\n",
      "Claster 2\n",
      "The comments share a sentiment of regret, disapproval, and concern about the use of atomic bombs and the negative portrayal of their effects in a movie, highlighting the moral and ethical implications of nuclear weapons and their impact on humanity and history.\n",
      "====================================================================================================\n",
      "Claster 3\n",
      "All of the comments express high praise and admiration for a movie, describing it as one of the greatest or best movies the commenters have seen.\n",
      "====================================================================================================\n",
      "Claster 4\n",
      "Each comment consists solely of a repeated emoji or series of emojis without any accompanying text.\n",
      "====================================================================================================\n"
     ]
    }
   ],
   "source": [
    "from src.describe_by_llm import describe_claster\n",
    "\n",
    "for ind in claster_inds:\n",
    "    print(f'Claster {ind}')\n",
    "    inds = clasters == ind\n",
    "    comments_claster = [comment for comment, ind in zip(comments, inds) if ind]\n",
    "    embeddings_claster = embeddings[inds]\n",
    "\n",
    "    result = describe_claster(embeddings_claster, comments_claster)\n",
    "\n",
    "    print(result)\n",
    "\n",
    "    print(\"=\" * 100)"
   ]
  },
  {
   "cell_type": "code",
   "execution_count": 21,
   "metadata": {},
   "outputs": [
    {
     "name": "stdout",
     "output_type": "stream",
     "text": [
      "Claster 0\n",
      "0.175\n",
      "====================================================================================================\n",
      "Claster 1\n",
      "0.51\n",
      "====================================================================================================\n",
      "Claster 2\n",
      "0.445\n",
      "====================================================================================================\n",
      "Claster 3\n",
      "0.84\n",
      "====================================================================================================\n",
      "Claster 4\n",
      "0.725\n",
      "====================================================================================================\n"
     ]
    }
   ],
   "source": [
    "from src.sentiment_analysis import comments_sentiment\n",
    "\n",
    "for ind in claster_inds:\n",
    "    print(f'Claster {ind}')\n",
    "    inds = clasters == ind\n",
    "    comments_claster = [comment for comment, ind in zip(comments, inds) if ind]\n",
    "\n",
    "    result = comments_sentiment(comments_claster)\n",
    "\n",
    "    print(result)\n",
    "\n",
    "    print(\"=\" * 100)"
   ]
  }
 ],
 "metadata": {
  "kernelspec": {
   "display_name": "Python 3",
   "language": "python",
   "name": "python3"
  },
  "language_info": {
   "codemirror_mode": {
    "name": "ipython",
    "version": 3
   },
   "file_extension": ".py",
   "mimetype": "text/x-python",
   "name": "python",
   "nbconvert_exporter": "python",
   "pygments_lexer": "ipython3",
   "version": "3.11.7"
  }
 },
 "nbformat": 4,
 "nbformat_minor": 2
}
